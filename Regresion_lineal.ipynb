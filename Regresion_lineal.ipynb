{
 "cells": [
  {
   "cell_type": "markdown",
   "metadata": {},
   "source": [
    "## Comparación de diferentes métodos de estimación de parámetros de la regresión lineal"
   ]
  },
  {
   "cell_type": "markdown",
   "metadata": {},
   "source": [
    "### Modelo de regresión lineal\n",
    "\n",
    "$$Y=b+w_{0}X_{0}+ \\cdots + w_{n-1}X_{n-1}+\\varepsilon $$\n",
    "\n",
    "Siendo $Y$ la variable respuesta, $X_{0},\\cdots, X_{n-1}$ las variables explicativa, $b, w_{0},\\cdots, w_{n-1}$ los parámetros y $\\varepsilon$ el error.\n",
    "\n",
    "\n",
    "Una muestra bajo diseño fijo se puede expresar de la forma\n",
    "$$\n",
    "\\left(\\begin{array}{c}\n",
    "Y_1 \\\\\n",
    "\\vdots \\\\\n",
    "Y_m\n",
    "\\end{array}\\right)=\\left(\\begin{array}{ccccc}\n",
    "1 & x_{0,0} & \\cdots & x_{0, n-1} \\\\\n",
    "\\vdots & \\vdots & \\ddots & \\vdots \\\\\n",
    "1 & x_{m-1, 0} & \\cdots & x_{m-1, n-1} \\\\\n",
    "\n",
    "\\end{array}\\right) \\cdot\\left(\\begin{array}{c}\n",
    "b \\\\\n",
    "w_0 \\\\\n",
    "\\vdots \\\\\n",
    "w_{n-1}\n",
    "\\end{array}\\right)+\\left(\\begin{array}{c}\n",
    "\\varepsilon_1 \\\\\n",
    "\\vdots \\\\\n",
    "\\varepsilon_n\n",
    "\\end{array}\\right)\n",
    "$$\n",
    "\n",
    "O lo que es lo mismo $$Y=X\\beta+\\varepsilon$$\n"
   ]
  },
  {
   "cell_type": "markdown",
   "metadata": {},
   "source": [
    "### Estimación de parámetros mediante ecuaciones normales\n",
    "\n",
    "Para estimar el vector de parámetros, $\\beta$, escogeremos como estimador aquel $\\hat{\\beta}$ donde se alcance \n",
    "$$ \\min_{\\beta} \\sum_{i=1}^{m}(Y_i-x_i\\beta)^2$$ \n",
    "con $x_i$ la fila m-ésima de la matriz de diseño\n",
    "Equivalentemente\n",
    "$$ \\min_{\\beta} (Y-X \\beta)^{t}(Y-X \\beta) $$\n",
    "\n",
    "Derivando respecto $\\beta$ e igualando a 0 llegamos a las ecuaciones normales\n",
    "\n",
    "$$X^{t}X\\beta=X^t\\beta$$\n",
    "\n",
    "Entonces nuestro estimador $\\hat{\\beta}$ será $$ \\hat{\\beta}=(X^tX)^{-1}X^{t}Y $$\n"
   ]
  },
  {
   "cell_type": "code",
   "execution_count": 1,
   "metadata": {},
   "outputs": [],
   "source": [
    "import numpy as np\n",
    "import matplotlib.pyplot as plt\n",
    "import pandas as pd\n",
    "import math"
   ]
  },
  {
   "cell_type": "code",
   "execution_count": 2,
   "metadata": {},
   "outputs": [],
   "source": [
    "def est_min_cuad(X,Y):\n",
    "    \"\"\"\n",
    "    Estimación de parámetros por mínimos cuadrados\n",
    "    input:\n",
    "    X array (m,n)\n",
    "    Y array (m,) o similar, cualquiera funciona al hacer el reshape\n",
    "\n",
    "    output:\n",
    "\n",
    "    beta_hat array (n,1)\n",
    "    \n",
    "    \n",
    "    \"\"\"\n",
    "    \n",
    "    m=X.shape[0]\n",
    "    col=np.ones(m)\n",
    "    col=col.reshape(-1,1)\n",
    "    X=np.concatenate((col, X), axis=1)\n",
    "    \n",
    "    #beta_hat=np.matmul(np.matmul(np.linalg.inv(np.matmul(np.transpose(X),X)),np.transpose(X)),Y.reshape(-1,1))\n",
    "    beta_hat=np.linalg.inv(np.transpose(X)@X)@np.transpose(X)@Y.reshape(-1,1)\n",
    "    return beta_hat\n",
    "\n",
    "    \n",
    "\n"
   ]
  },
  {
   "cell_type": "code",
   "execution_count": 3,
   "metadata": {},
   "outputs": [
    {
     "name": "stdout",
     "output_type": "stream",
     "text": [
      "el b estimado es [221.50226367]\n",
      "el  w_0 estimado es [0.26836643]\n",
      "el  w_1 estimado es [-32.90362407]\n",
      "el  w_2 estimado es [-67.28804158]\n",
      "el  w_3 estimado es [-1.46516763]\n"
     ]
    }
   ],
   "source": [
    "data = np.loadtxt(\"houses.txt\", delimiter=',')\n",
    "X1 = data[:,:4]\n",
    "Y1 = data[:,4]\n",
    "m1,n1=X1.shape\n",
    "beta_hat=est_min_cuad(X1,Y1)\n",
    "b_mq=beta_hat[0,:]\n",
    "w_mq=beta_hat[1:,:]\n",
    "print('el b estimado es',b_mq)\n",
    "for i in range(n1):\n",
    "    coef='w_'+str(i)\n",
    "    print('el ',coef,'estimado es',w_mq[i])"
   ]
  },
  {
   "cell_type": "code",
   "execution_count": 4,
   "metadata": {},
   "outputs": [
    {
     "data": {
      "image/png": "[encoded data removed]",
      "text/plain": [
       "<Figure size 864x216 with 4 Axes>"
      ]
     },
     "metadata": {
      "needs_background": "light"
     },
     "output_type": "display_data"
    }
   ],
   "source": [
    "yp = np.zeros(m1)\n",
    "for i in range(m1):\n",
    "    yp[i] = np.dot(X1[i], w_mq) + b_mq   \n",
    "fig,ax=plt.subplots(1,4,figsize=(12, 3),sharey=True)\n",
    "for i in range(len(ax)):\n",
    "    ax[i].scatter(X1[:,i],Y1, label = 'datos')\n",
    "    ax[i].scatter(X1[:,i],yp, label = 'predicción')\n",
    "    ax[0].legend();\n",
    "fig.suptitle(\"Datos vs predicciones\")\n",
    "plt.show()\n",
    "\n"
   ]
  },
  {
   "cell_type": "markdown",
   "metadata": {},
   "source": [
    "### Estimación de parámetros mediante descenso de gradiente\n",
    "\n",
    "\n",
    "Como alternativa a las ecuaciones normales, podemos usar un método de descenso de gradiente. El objetivo es crear un algoritmo que nos vaya actualizando los coeficientes y reduciendo el coste en cada iteración. Para esto, se va recorriendo w y b en la dirección inversa al gradiente(ya que este representa la dirección de máximo crecimiento), estos pasos serán más grandes o más pequeños dependiendo del learning rate, $\\alpha$ . De esta forma nos vamos acercando al mínimo de la función coste, siempre que esta sea convexa y $\\alpha$ tenga un valor adecuado.\n",
    "\n",
    "#### Función coste\n",
    "\n",
    "\n",
    "\\begin{align*}\n",
    "& J(\\mathbf{w}, b)=\\frac{1}{2 m} \\sum_{i=0}^{m-1}\\left(f_{\\mathbf{w}, b}\\left(\\mathbf{x}^{(i)}\\right)-Y_{i}\\right)^2 \\\\\n",
    "& f_{\\mathbf{w}, b}\\left(\\mathbf{x}^{(i)}\\right)=\\mathbf{w} \\cdot \\mathbf{x}^{(i)}+b\n",
    "\\end{align*}\n",
    "\n",
    "\n",
    "Siendo $\\mathbf{x}^{(i)}$ la fila i-ésima de $X$\n",
    "\n",
    "\n",
    "#### Descenso de gradiente\n",
    "\n",
    "\\begin{align*}\n",
    "& w_j = w_j -  \\alpha \\frac{\\partial J(\\mathbf{w},b)}{\\partial w_j} \\text{ para }  j=0,\\cdots ,n-1\\\\\n",
    "& b\\ \\ = b -  \\alpha \\frac{\\partial J(\\mathbf{w},b)}{\\partial b}  \\\\\n",
    "& \\text{Repetir hasta convergencia}\n",
    "\\end{align*}\n",
    "\n",
    "\n",
    "Siendo el gradiente:\n",
    "\\begin{align*}\n",
    "\\frac{\\partial J(\\mathbf{w},b)}{\\partial w_j}  &= \\frac{1}{m} \\sum\\limits_{i = 0}^{m-1} (f_{\\mathbf{w},b}(\\mathbf{x}^{(i)}) - y^{(i)})x_{j}^{(i)}   \\\\\n",
    "\\frac{\\partial J(\\mathbf{w},b)}{\\partial b}  &= \\frac{1}{m} \\sum\\limits_{i = 0}^{m-1} (f_{\\mathbf{w},b}(\\mathbf{x}^{(i)}) - y^{(i)}) \n",
    "\\end{align*}\n"
   ]
  },
  {
   "cell_type": "code",
   "execution_count": 5,
   "metadata": {},
   "outputs": [],
   "source": [
    "def f_coste(X,Y,w,b):\n",
    "    \"\"\"\n",
    "    Calcula el coste j_wb\n",
    "\n",
    "    input:\n",
    "    X array (m,n)\n",
    "    w array (n,) \n",
    "    b scalar\n",
    "    \n",
    "    output:\n",
    "    j_wb scalar\n",
    "\n",
    "    arr = np.concatenate([arr, col], axis=1)    \n",
    "    \"\"\"\n",
    "    m=X.shape[0]\n",
    "\n",
    "    \n",
    "    w_col=w.reshape(-1,1)\n",
    "    error=np.matmul(X,w_col)+b-Y.reshape(-1,1)\n",
    "    #print(error)\n",
    "    error=np.squeeze(error)\n",
    "    #print(error)\n",
    "    j_wb=(np.dot(error,error))/(2*m) \n",
    "   \n",
    "\n",
    "    \"\"\" error=np.zeros(m)\n",
    "    for i in range(m):\n",
    "        error[i]=np.dot(X[i,:],w)+b-Y[i]\n",
    "    mse=(np.dot(error,error))/(2*m)\n",
    " \"\"\"\n",
    "    return j_wb\n",
    "    \n",
    "\n",
    "\n"
   ]
  },
  {
   "cell_type": "code",
   "execution_count": 6,
   "metadata": {},
   "outputs": [],
   "source": [
    "def gradiente_l(X,Y,W,b):\n",
    "    \"\"\"\n",
    "    Computa el gradiente del coste j_wb\n",
    "\n",
    "    input:\n",
    "    X array (m,n)\n",
    "    Y array (m,)\n",
    "    W array (n,)\n",
    "    b scalar\n",
    "\n",
    "    output:\n",
    "    dj_dw array (n,)\n",
    "    dj_db scalar\n",
    "    \"\"\"\n",
    "    m=X.shape[0]   \n",
    "    W_col=W.reshape(-1,1)\n",
    "    error=np.matmul(X,W_col)+b-Y.reshape(-1,1)\n",
    "    error=np.squeeze(error)\n",
    "    dj_db=sum(error)/m\n",
    "    dj_dw=error@X\n",
    "    dj_dw=dj_dw/m\n",
    "\n",
    "    return dj_dw,dj_db"
   ]
  },
  {
   "cell_type": "code",
   "execution_count": 7,
   "metadata": {},
   "outputs": [],
   "source": [
    "def descenso_gradiente(X, Y, W_in, b_in, alfa, it_max, f_coste, gradiente_l):\n",
    "    \"\"\"\n",
    "    Estimación de w y b mediante descenso de gradiente\n",
    "\n",
    "    input:\n",
    "    X array (m,n)\n",
    "    Y array (m,)\n",
    "    W_in array (n,)\n",
    "    b_in scalar\n",
    "    alfa scalar\n",
    "    it_max int\n",
    "    f_coste función coste, j_wb\n",
    "    gradiente_t función que calcula el gradiente de la función coste\n",
    "\n",
    "    output:\n",
    "    w array(n,)\n",
    "    b scalar\n",
    "\n",
    "\n",
    "    \"\"\"\n",
    "    w=W_in\n",
    "    b=b_in\n",
    "    for i in range(it_max):\n",
    "        dj_dw,dj_db = gradiente_l(X, Y, w, b)\n",
    "        w=w-alfa*dj_dw\n",
    "        b=b-alfa*dj_db\n",
    "\n",
    "\n",
    "    return w,b"
   ]
  },
  {
   "cell_type": "code",
   "execution_count": 8,
   "metadata": {},
   "outputs": [],
   "source": [
    "def descenso_gradiente2(X, Y, W_in, b_in, alfa, it_max, f_coste, gradiente_l):\n",
    "    \"\"\"\n",
    "    Estimación de w y b mediante descenso de gradiente con almacenamiento de información en ciertos pasos\n",
    "    input:\n",
    "    X array (m,n)\n",
    "    Y array (m,)\n",
    "    W_in array (n,)\n",
    "    b_in scalar\n",
    "    alfa scalar\n",
    "    it_max int\n",
    "    f_coste función coste, j_wb\n",
    "    gradiente_t función que calcula el gradiente de la función coste\n",
    "\n",
    "    output:\n",
    "    w array(n,)\n",
    "    b scalar\n",
    "    it_info pandas data frame que recoge los datos en 100 pasos uniformemente espaciados\n",
    "\n",
    "\n",
    "    \"\"\"\n",
    "    m,n=X.shape\n",
    "    w=W_in\n",
    "    b=b_in\n",
    "    columnas=['iteraciones','coste']\n",
    "    for i in range(n):\n",
    "        columnas.append('w_'+str(i))\n",
    "    columnas.append('b')\n",
    "    it_info=pd.DataFrame(columns=columnas)\n",
    "\n",
    "\n",
    "\n",
    "    for i in range(it_max):\n",
    "        dj_dw,dj_db = gradiente_l(X, Y, w, b)\n",
    "        w=w-alfa*dj_dw\n",
    "        b=b-alfa*dj_db\n",
    "\n",
    "        if i == 0 or i % math.ceil(it_max/100) == 0:\n",
    "            coste=f_coste(X,Y,w,b)\n",
    "            w_list=w.tolist()\n",
    "            it_info.loc[i]  = [i, coste]+ w_list+[ b]\n",
    "\n",
    "    return it_info,w,b"
   ]
  },
  {
   "cell_type": "markdown",
   "metadata": {},
   "source": [
    "Obtengamos los coeficientes para el data set de antes mediante descenso de gradiente"
   ]
  },
  {
   "cell_type": "code",
   "execution_count": 9,
   "metadata": {},
   "outputs": [
    {
     "name": "stdout",
     "output_type": "stream",
     "text": [
      "[[  0.26836643]\n",
      " [-32.90362407]\n",
      " [-67.28804158]\n",
      " [ -1.46516763]] [221.50226367]\n",
      "[2.24085611e-01 4.05018148e-04 2.05826950e-04 4.69912397e-03] 0.00015049596377980992\n",
      "el coste para los coeficientes estimados por mínimos cuadrados es  219.7113017649621\n",
      "el coste para los coeficientes estimados por descenso de gradiente es  2474.522148788117\n"
     ]
    }
   ],
   "source": [
    "\n",
    "w_in=np.zeros(n1)\n",
    "b_in=0.\n",
    "alfa=1.0e-10\n",
    "it_max=10000\n",
    "\n",
    "w_dg, b_dg=descenso_gradiente(X1, Y1, w_in, b_in, alfa, it_max, f_coste, gradiente_l)\n",
    "\n",
    "print(w_mq,b_mq)\n",
    "print(w_dg,b_dg)\n",
    "\n",
    "print('el coste para los coeficientes estimados por mínimos cuadrados es ', f_coste(X1,Y1,w_mq,b_mq))\n",
    "print('el coste para los coeficientes estimados por descenso de gradiente es ', f_coste(X1,Y1,w_dg,b_dg))\n",
    "\n",
    "\n",
    "\n"
   ]
  },
  {
   "cell_type": "markdown",
   "metadata": {},
   "source": [
    "#### Rápidez de convergencia para diferentes alfas"
   ]
  },
  {
   "cell_type": "code",
   "execution_count": 10,
   "metadata": {},
   "outputs": [
    {
     "name": "stdout",
     "output_type": "stream",
     "text": [
      "el coste para alfa1, alfa2, alfa 3 es   1565.1751829820182 1530.4674878668843 1374.77163735132\n"
     ]
    },
    {
     "data": {
      "image/png": "[encoded data removed]",
      "text/plain": [
       "<Figure size 432x288 with 1 Axes>"
      ]
     },
     "metadata": {
      "needs_background": "light"
     },
     "output_type": "display_data"
    }
   ],
   "source": [
    "alfa1=1.0e-9\n",
    "alfa2=1.0e-8\n",
    "alfa3=1.0e-7\n",
    "descenso1,w_dg1, b_dg1=descenso_gradiente2(X1, Y1, w_in, b_in, alfa1, it_max, f_coste, gradiente_l)\n",
    "descenso2,w_dg2, b_dg2=descenso_gradiente2(X1, Y1, w_in, b_in, alfa2, it_max, f_coste, gradiente_l)\n",
    "descenso3,w_dg3, b_dg3=descenso_gradiente2(X1, Y1, w_in, b_in, alfa3, it_max, f_coste, gradiente_l)\n",
    "plt.plot(descenso1['iteraciones'],descenso1['coste'],label=\"alfa1\")\n",
    "plt.plot(descenso2['iteraciones'],descenso2['coste'],label=\"alfa2\")\n",
    "plt.plot(descenso3['iteraciones'],descenso3['coste'],label=\"alfa3\")\n",
    "plt.legend()\n",
    "plt.ylabel('coste')\n",
    "plt.xlabel('Número de iteraciones')\n",
    "\n",
    "print('el coste para alfa1, alfa2, alfa 3 es  ', f_coste(X1,Y1,w_dg1,b_dg1),f_coste(X1,Y1,w_dg2,b_dg2),f_coste(X1,Y1,w_dg3,b_dg3))"
   ]
  },
  {
   "cell_type": "markdown",
   "metadata": {},
   "source": [
    "Como vemos en la gráfica la velocidad de convergencia es muy alta, después de las 10000 iteraciones aún tenemos un error muy superior al de los coeficientes calculados con mínimos cuadrados."
   ]
  },
  {
   "cell_type": "markdown",
   "metadata": {},
   "source": [
    "#### Descenso de gradiente con datos normalizados\n",
    "\n",
    "Con la normalización z-score, las columnas de $X$(es decir cada variable explicativa) tendrán media 0 y desviación típica 1. Para obtener esto, hay que aplicar a cada elemento:\n",
    "$$ x_i,j=\\frac{x_{i,j} - \\mu_j}{\\sigma_j}$$\n",
    "siendo $\\mu_j$ la media de la columna j y $\\sigma_j$ su desviación típica\n",
    "\n",
    "Esto ayuda a que el descenso de gradiente converja más rápido\n"
   ]
  },
  {
   "cell_type": "code",
   "execution_count": 11,
   "metadata": {},
   "outputs": [],
   "source": [
    "def normalizacion_z(X):\n",
    "    \"\"\"\n",
    "    input:\n",
    "    X array (m,n)\n",
    "    output:\n",
    "    X_norm array (m,n)\n",
    "    \"\"\"\n",
    "    m,n=X.shape\n",
    "    mu = np.mean(X,axis=0)\n",
    "    mu=mu.reshape(1,n) #pasamos de (n,) a (1,n) para hacer las operaciones por columnas\n",
    "    sigma = np.std(X,axis=0)\n",
    "    sigma=sigma.reshape(1,n)\n",
    "    X_norm=(X-mu)/sigma\n",
    "    return X_norm"
   ]
  },
  {
   "cell_type": "markdown",
   "metadata": {},
   "source": [
    "Calculemos de nuevo los coeficientes con las variables explicativas normalizadas"
   ]
  },
  {
   "cell_type": "code",
   "execution_count": 12,
   "metadata": {},
   "outputs": [
    {
     "name": "stdout",
     "output_type": "stream",
     "text": [
      "el coste para los coeficientes estimados por descenso de gradiente con datos normalizados es  219.7113017649619\n"
     ]
    }
   ],
   "source": [
    "X1_norm=normalizacion_z(X1)\n",
    "alfa=1.0e-2\n",
    "descenso_norm,w_dg_norm, b_dg_norm=descenso_gradiente2(X1_norm, Y1, w_in, b_in, alfa, it_max, f_coste, gradiente_l)\n",
    "print('el coste para los coeficientes estimados por descenso de gradiente con datos normalizados es ', f_coste(X1_norm,Y1,w_dg_norm,b_dg_norm))\n",
    "\n"
   ]
  },
  {
   "cell_type": "markdown",
   "metadata": {},
   "source": [
    "Ahora sí que ha acercado bastante a la convergencia, el error es parecido al obtenido con las ecuaciones normales. Veamos las predicciones con estos coeficientes:"
   ]
  },
  {
   "cell_type": "code",
   "execution_count": 13,
   "metadata": {},
   "outputs": [
    {
     "data": {
      "image/png": "[encoded data removed]",
      "text/plain": [
       "<Figure size 864x216 with 4 Axes>"
      ]
     },
     "metadata": {
      "needs_background": "light"
     },
     "output_type": "display_data"
    }
   ],
   "source": [
    "yp_dg = np.zeros(m1)\n",
    "for i in range(m1):\n",
    "    yp_dg[i] = np.dot(X1_norm[i], w_dg_norm) + b_dg_norm  \n",
    "fig,ax=plt.subplots(1,4,figsize=(12, 3),sharey=True)\n",
    "for i in range(len(ax)):\n",
    "    ax[i].scatter(X1_norm[:,i],Y1, label = 'datos')\n",
    "    ax[i].scatter(X1_norm[:,i],yp, label = 'predicción')\n",
    "    ax[0].legend();\n",
    "fig.suptitle(\"Datos vs predicciones con normalización z-score\")\n",
    "plt.show()\n"
   ]
  },
  {
   "cell_type": "code",
   "execution_count": null,
   "metadata": {},
   "outputs": [],
   "source": []
  }
 ],
 "metadata": {
  "kernelspec": {
   "display_name": "Python 3.9.12 ('base')",
   "language": "python",
   "name": "python3"
  },
  "language_info": {
   "codemirror_mode": {
    "name": "ipython",
    "version": 3
   },
   "file_extension": ".py",
   "mimetype": "text/x-python",
   "name": "python",
   "nbconvert_exporter": "python",
   "pygments_lexer": "ipython3",
   "version": "3.9.12"
  },
  "orig_nbformat": 4,
  "vscode": {
   "interpreter": {
    "hash": "bf7718101cdbf87150dcecf082dc9adc6827153f61b66a992fb41ed50dccbd69"
   }
  }
 },
 "nbformat": 4,
 "nbformat_minor": 2
}
